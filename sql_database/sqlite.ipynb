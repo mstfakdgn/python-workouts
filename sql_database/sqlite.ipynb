{
 "cells": [
  {
   "cell_type": "code",
   "execution_count": 1,
   "metadata": {},
   "outputs": [
    {
     "data": {
      "text/plain": [
       "['Requirement already satisfied: ipython-sql in /home/flyiva-05/anaconda3/lib/python3.8/site-packages (0.4.0)',\n",
       " 'Requirement already satisfied: sqlalchemy>=0.6.7 in /home/flyiva-05/anaconda3/lib/python3.8/site-packages (from ipython-sql) (1.3.20)',\n",
       " 'Requirement already satisfied: ipython-genutils>=0.1.0 in /home/flyiva-05/anaconda3/lib/python3.8/site-packages (from ipython-sql) (0.2.0)',\n",
       " 'Requirement already satisfied: ipython>=1.0 in /home/flyiva-05/anaconda3/lib/python3.8/site-packages (from ipython-sql) (7.19.0)',\n",
       " 'Requirement already satisfied: six in /home/flyiva-05/anaconda3/lib/python3.8/site-packages (from ipython-sql) (1.15.0)',\n",
       " 'Requirement already satisfied: sqlparse in /home/flyiva-05/anaconda3/lib/python3.8/site-packages (from ipython-sql) (0.4.1)',\n",
       " 'Requirement already satisfied: prettytable<1 in /home/flyiva-05/anaconda3/lib/python3.8/site-packages (from ipython-sql) (0.7.2)',\n",
       " 'Requirement already satisfied: pickleshare in /home/flyiva-05/anaconda3/lib/python3.8/site-packages (from ipython>=1.0->ipython-sql) (0.7.5)',\n",
       " 'Requirement already satisfied: setuptools>=18.5 in /home/flyiva-05/anaconda3/lib/python3.8/site-packages (from ipython>=1.0->ipython-sql) (50.3.1.post20201107)',\n",
       " 'Requirement already satisfied: backcall in /home/flyiva-05/anaconda3/lib/python3.8/site-packages (from ipython>=1.0->ipython-sql) (0.2.0)',\n",
       " 'Requirement already satisfied: prompt-toolkit!=3.0.0,!=3.0.1,<3.1.0,>=2.0.0 in /home/flyiva-05/anaconda3/lib/python3.8/site-packages (from ipython>=1.0->ipython-sql) (3.0.8)',\n",
       " 'Requirement already satisfied: jedi>=0.10 in /home/flyiva-05/anaconda3/lib/python3.8/site-packages (from ipython>=1.0->ipython-sql) (0.17.1)',\n",
       " 'Requirement already satisfied: traitlets>=4.2 in /home/flyiva-05/anaconda3/lib/python3.8/site-packages (from ipython>=1.0->ipython-sql) (5.0.5)',\n",
       " 'Requirement already satisfied: decorator in /home/flyiva-05/anaconda3/lib/python3.8/site-packages (from ipython>=1.0->ipython-sql) (4.4.2)',\n",
       " 'Requirement already satisfied: pygments in /home/flyiva-05/anaconda3/lib/python3.8/site-packages (from ipython>=1.0->ipython-sql) (2.7.2)',\n",
       " 'Requirement already satisfied: pexpect>4.3; sys_platform != \"win32\" in /home/flyiva-05/anaconda3/lib/python3.8/site-packages (from ipython>=1.0->ipython-sql) (4.8.0)',\n",
       " 'Requirement already satisfied: wcwidth in /home/flyiva-05/anaconda3/lib/python3.8/site-packages (from prompt-toolkit!=3.0.0,!=3.0.1,<3.1.0,>=2.0.0->ipython>=1.0->ipython-sql) (0.2.5)',\n",
       " 'Requirement already satisfied: parso<0.8.0,>=0.7.0 in /home/flyiva-05/anaconda3/lib/python3.8/site-packages (from jedi>=0.10->ipython>=1.0->ipython-sql) (0.7.0)',\n",
       " 'Requirement already satisfied: ptyprocess>=0.5 in /home/flyiva-05/anaconda3/lib/python3.8/site-packages (from pexpect>4.3; sys_platform != \"win32\"->ipython>=1.0->ipython-sql) (0.6.0)']"
      ]
     },
     "execution_count": 1,
     "metadata": {},
     "output_type": "execute_result"
    }
   ],
   "source": [
    "%%!\n",
    "pip install --trusted-host pypi.org ipython-sql"
   ]
  },
  {
   "cell_type": "code",
   "execution_count": 2,
   "metadata": {},
   "outputs": [],
   "source": [
    "%load_ext sql"
   ]
  },
  {
   "cell_type": "code",
   "execution_count": 3,
   "metadata": {},
   "outputs": [],
   "source": [
    "%sql sqlite:///vbo.db"
   ]
  },
  {
   "cell_type": "code",
   "execution_count": null,
   "metadata": {},
   "outputs": [],
   "source": []
  }
 ],
 "metadata": {
  "kernelspec": {
   "display_name": "Python 3",
   "language": "python",
   "name": "python3"
  },
  "language_info": {
   "codemirror_mode": {
    "name": "ipython",
    "version": 3
   },
   "file_extension": ".py",
   "mimetype": "text/x-python",
   "name": "python",
   "nbconvert_exporter": "python",
   "pygments_lexer": "ipython3",
   "version": "3.8.5"
  }
 },
 "nbformat": 4,
 "nbformat_minor": 4
}
